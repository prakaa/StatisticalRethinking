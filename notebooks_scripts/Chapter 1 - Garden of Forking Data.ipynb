{
 "cells": [
  {
   "cell_type": "code",
   "execution_count": 1,
   "metadata": {},
   "outputs": [],
   "source": [
    "using Random"
   ]
  },
  {
   "cell_type": "code",
   "execution_count": 14,
   "metadata": {},
   "outputs": [],
   "source": [
    "struct Bag\n",
    "    size::Int64\n",
    "    blue_marbles::Int64\n",
    "    white_marbles::Int64\n",
    "end "
   ]
  },
  {
   "cell_type": "code",
   "execution_count": 29,
   "metadata": {},
   "outputs": [
    {
     "data": {
      "text/plain": [
       "instantiate_bag (generic function with 1 method)"
      ]
     },
     "execution_count": 29,
     "metadata": {},
     "output_type": "execute_result"
    }
   ],
   "source": [
    "function instantiate_bag(size::Int64)\n",
    "    random= abs(rand())\n",
    "    blue_marbles = round(random*size)\n",
    "    Bag(size, blue_marbles, size-blue_marbles)\n",
    "end"
   ]
  },
  {
   "cell_type": "code",
   "execution_count": 34,
   "metadata": {},
   "outputs": [
    {
     "data": {
      "text/plain": [
       "Bag(4, 1, 3)"
      ]
     },
     "execution_count": 34,
     "metadata": {},
     "output_type": "execute_result"
    }
   ],
   "source": [
    "trial_bag = instantiate_bag(4)"
   ]
  },
  {
   "cell_type": "markdown",
   "metadata": {},
   "source": [
    "We know that the following marbles were drawn with replacement in the order defined below:\n",
    "   1. Blue\n",
    "   2. White\n",
    "   3. Blue"
   ]
  },
  {
   "cell_type": "code",
   "execution_count": 48,
   "metadata": {},
   "outputs": [
    {
     "data": {
      "text/plain": [
       "three_marble_draws (generic function with 1 method)"
      ]
     },
     "execution_count": 48,
     "metadata": {},
     "output_type": "execute_result"
    }
   ],
   "source": [
    "function three_marble_draws(bag::Bag)\n",
    "    ρ_blue = bag.blue_marbles/bag.size\n",
    "    ρ_white = 1 - ρ_blue\n",
    "    draws = Char[]\n",
    "    for i in 1:3\n",
    "        r = rand()\n",
    "        if r < ρ_blue\n",
    "            push!(draws, 'B')\n",
    "        else\n",
    "            push!(draws, 'W')\n",
    "        end\n",
    "    end\n",
    "    draws\n",
    "end"
   ]
  },
  {
   "cell_type": "code",
   "execution_count": 51,
   "metadata": {},
   "outputs": [
    {
     "data": {
      "text/plain": [
       "3-element Array{Char,1}:\n",
       " 'B'\n",
       " 'W'\n",
       " 'W'"
      ]
     },
     "execution_count": 51,
     "metadata": {},
     "output_type": "execute_result"
    }
   ],
   "source": [
    "three_marble_draws(trial_bag)"
   ]
  },
  {
   "cell_type": "code",
   "execution_count": 63,
   "metadata": {},
   "outputs": [
    {
     "data": {
      "text/plain": [
       "iterate_three_draws (generic function with 1 method)"
      ]
     },
     "execution_count": 63,
     "metadata": {},
     "output_type": "execute_result"
    }
   ],
   "source": [
    "function iterate_three_draws(runs::Int64, bag::Bag)\n",
    "    result_counter = 0\n",
    "    for i in 1:runs\n",
    "        result = three_marble_draws(bag)\n",
    "        if result == ['B', 'W', 'B']\n",
    "            result_counter += 1\n",
    "        end\n",
    "    end\n",
    "    print(\"Probability of drawing BWB out of a bag with\" * \n",
    "          \" $(bag.white_marbles) white marbles and $(bag.blue_marbles) blue marble\" *\n",
    "          \" is $(result_counter/runs)\")\n",
    "end"
   ]
  },
  {
   "cell_type": "code",
   "execution_count": 68,
   "metadata": {},
   "outputs": [
    {
     "name": "stdout",
     "output_type": "stream",
     "text": [
      "Probability of drawing BWB out of a bag with 3 white marbles and 1 blue marble is 0.0468641  1.278163 seconds (30.00 M allocations: 1.937 GiB, 17.40% gc time)\n"
     ]
    }
   ],
   "source": [
    "@time iterate_three_draws(10000000, trial_bag)"
   ]
  }
 ],
 "metadata": {
  "kernelspec": {
   "display_name": "Julia 1.1.1",
   "language": "julia",
   "name": "julia-1.1"
  },
  "language_info": {
   "file_extension": ".jl",
   "mimetype": "application/julia",
   "name": "julia",
   "version": "1.1.1"
  }
 },
 "nbformat": 4,
 "nbformat_minor": 2
}
